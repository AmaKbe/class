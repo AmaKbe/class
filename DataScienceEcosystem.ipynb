{
 "cells": [
  {
   "cell_type": "markdown",
   "id": "28cd341f-46d5-49ae-88e6-7507e5cceef4",
   "metadata": {
    "tags": []
   },
   "source": [
    "# Data Science Tools and Ecosystem #"
   ]
  },
  {
   "cell_type": "markdown",
   "id": "5cc2b97a-3887-4fa9-a3d4-e66fe280b745",
   "metadata": {},
   "source": [
    "In this notebook, Data Science Tools and Ecosystem are summarized."
   ]
  },
  {
   "cell_type": "markdown",
   "id": "670ee48b-2bd9-4c74-8675-9f63d517079f",
   "metadata": {},
   "source": [
    "Some of the popular languages that Data Scientists use are:"
   ]
  },
  {
   "cell_type": "markdown",
   "id": "d29fac90-63a3-4da9-8725-4966320f9307",
   "metadata": {},
   "source": [
    "1. Python\n",
    "2. R\n",
    "3. Julia"
   ]
  },
  {
   "cell_type": "markdown",
   "id": "cfd660f1-bab5-44c5-ada5-c527d9d6d55c",
   "metadata": {},
   "source": [
    "Some of the commonly used libraries used by Data Scientists include:"
   ]
  },
  {
   "cell_type": "markdown",
   "id": "b9d8aeba-655f-474e-af72-9ac8b4788979",
   "metadata": {},
   "source": [
    "1. Matplotlib\n",
    "2. Pandas\n",
    "3. Numpy "
   ]
  },
  {
   "cell_type": "markdown",
   "id": "6085e142-2de0-4332-aee3-2987992fb133",
   "metadata": {},
   "source": [
    "| Data Science Tools |\n",
    "|--------------------|\n",
    "| Jupyter Notebooks  |\n",
    "| Apache Spark       |\n",
    "| GitHub             |"
   ]
  },
  {
   "cell_type": "markdown",
   "id": "6d784805-0a40-4c9f-ab83-78c7907ed386",
   "metadata": {},
   "source": [
    "### Below are a few examples of evaluating arithmetic expressions in Python ###"
   ]
  },
  {
   "cell_type": "markdown",
   "id": "eb567967-af0e-4611-b5f7-0c95d9c7fdda",
   "metadata": {},
   "source": [
    "This a simple arithmetic expression to mutiply then add integers."
   ]
  },
  {
   "cell_type": "code",
   "execution_count": 2,
   "id": "a86762fb-2821-481c-875b-c48ae7c4ad19",
   "metadata": {
    "tags": []
   },
   "outputs": [
    {
     "data": {
      "text/plain": [
       "17"
      ]
     },
     "execution_count": 2,
     "metadata": {},
     "output_type": "execute_result"
    }
   ],
   "source": [
    "(3*4)+5"
   ]
  },
  {
   "cell_type": "markdown",
   "id": "7749f5c5-41ec-4080-a8cf-47ff25db91a6",
   "metadata": {},
   "source": [
    "This will convert 200 minutes to hours by diving by 60."
   ]
  },
  {
   "cell_type": "code",
   "execution_count": 3,
   "id": "3c4020b1-1f48-4431-b15e-11373c8d9480",
   "metadata": {
    "tags": []
   },
   "outputs": [
    {
     "data": {
      "text/plain": [
       "3.3333333333333335"
      ]
     },
     "execution_count": 3,
     "metadata": {},
     "output_type": "execute_result"
    }
   ],
   "source": [
    "200/60"
   ]
  },
  {
   "cell_type": "markdown",
   "id": "f530ac1f-df0c-4eca-bed5-658cf1fe783c",
   "metadata": {},
   "source": [
    "***Objectives*** : List popular languages for Data Science\n",
    "* Python \n",
    "* R\n",
    "* Julia\n",
    "* Scala\n",
    "* SQL"
   ]
  },
  {
   "cell_type": "markdown",
   "id": "8b5803c3-3023-45ed-b394-bda8d6ae3467",
   "metadata": {},
   "source": []
  }
 ],
 "metadata": {
  "kernelspec": {
   "display_name": "Python",
   "language": "python",
   "name": "conda-env-python-py"
  },
  "language_info": {
   "codemirror_mode": {
    "name": "ipython",
    "version": 3
   },
   "file_extension": ".py",
   "mimetype": "text/x-python",
   "name": "python",
   "nbconvert_exporter": "python",
   "pygments_lexer": "ipython3",
   "version": "3.7.12"
  }
 },
 "nbformat": 4,
 "nbformat_minor": 5
}
